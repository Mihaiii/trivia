{
 "cells": [
  {
   "cell_type": "code",
   "execution_count": 1,
   "metadata": {},
   "outputs": [],
   "source": [
    "from fasthtml.common import *"
   ]
  },
  {
   "cell_type": "code",
   "execution_count": 5,
   "metadata": {},
   "outputs": [
    {
     "data": {
      "text/plain": [
       "[ForeignKey(table='players', column='auth_method_id', other_table='auth_methods', other_column='id')]"
      ]
     },
     "execution_count": 5,
     "metadata": {},
     "output_type": "execute_result"
    }
   ],
   "source": [
    "db = database('uplayers.db')\n",
    "players = db.t.players\n",
    "if players not in db.t:\n",
    "    players.create(id=int, name=str, points=int, auth_method_id=int, pk='id')\n",
    "    \n",
    "auth_methods = db.t.auth_methods\n",
    "if auth_methods not in db.t:\n",
    "    auth_methods.create(id=int, name=str, pk='id')\n",
    "    auth_methods.insert({'name': \"Unknown\"}) # id 0\n",
    "    auth_methods.insert({'name': \"Huggingface\"}) # id 1\n",
    "    auth_methods.insert({'name': \"Gmail\"}) # id 2\n",
    "    db.add_foreign_keys((('players', 'auth_method_id', 'auth_methods', 'id'),))\n",
    "\n",
    "db.t.players.foreign_keys"
   ]
  },
  {
   "cell_type": "code",
   "execution_count": 3,
   "metadata": {},
   "outputs": [
    {
     "data": {
      "text/plain": [
       "[]"
      ]
     },
     "execution_count": 3,
     "metadata": {},
     "output_type": "execute_result"
    }
   ],
   "source": [
    "db = database('uplayers.db')\n",
    "players = db.t.players\n",
    "list(players.rows)"
   ]
  },
  {
   "cell_type": "code",
   "execution_count": 7,
   "metadata": {},
   "outputs": [
    {
     "data": {
      "text/plain": [
       "{'id': 1, 'name': 'dsadsa', 'points': 20, 'auth_method_id': 1}"
      ]
     },
     "execution_count": 7,
     "metadata": {},
     "output_type": "execute_result"
    }
   ],
   "source": [
    "players.insert({'name': \"dsadsa\", 'points': 20, 'auth_method_id': 1})"
   ]
  },
  {
   "cell_type": "code",
   "execution_count": 9,
   "metadata": {},
   "outputs": [
    {
     "data": {
      "text/plain": [
       "[]"
      ]
     },
     "execution_count": 9,
     "metadata": {},
     "output_type": "execute_result"
    }
   ],
   "source": [
    "db.q(f\"select * from {players} where {players.c.name} like 'dsadsa' limit 1\")"
   ]
  },
  {
   "cell_type": "code",
   "execution_count": 30,
   "metadata": {},
   "outputs": [
    {
     "data": {
      "text/plain": [
       "20"
      ]
     },
     "execution_count": 30,
     "metadata": {},
     "output_type": "execute_result"
    }
   ],
   "source": [
    "db.q(f\"select * from {players} where {players.c.name} like 'dsadsa' limit 1\")[0]['points']"
   ]
  },
  {
   "cell_type": "code",
   "execution_count": 4,
   "metadata": {},
   "outputs": [],
   "source": [
    "players.drop()"
   ]
  },
  {
   "cell_type": "code",
   "execution_count": 10,
   "metadata": {},
   "outputs": [
    {
     "data": {
      "text/plain": [
       "[{'id': 1, 'name': 'Mihaiii', 'points': 194}]"
      ]
     },
     "execution_count": 10,
     "metadata": {},
     "output_type": "execute_result"
    }
   ],
   "source": [
    "list(players.rows)"
   ]
  },
  {
   "cell_type": "code",
   "execution_count": 9,
   "metadata": {},
   "outputs": [
    {
     "data": {
      "text/plain": [
       "<Table players (id, name, points)>"
      ]
     },
     "execution_count": 9,
     "metadata": {},
     "output_type": "execute_result"
    }
   ],
   "source": [
    "players"
   ]
  },
  {
   "cell_type": "code",
   "execution_count": 18,
   "metadata": {},
   "outputs": [
    {
     "data": {
      "text/plain": [
       "[{'id': 1, 'name': 'Mihaiii', 'points': 194}]"
      ]
     },
     "execution_count": 18,
     "metadata": {},
     "output_type": "execute_result"
    }
   ],
   "source": [
    "ids = \", \".join([str(x) for x in [1, 2,3]])\n",
    "db.q(f\"select * from {players} where {players.c.id} in ({ids})\")"
   ]
  },
  {
   "cell_type": "code",
   "execution_count": 11,
   "metadata": {},
   "outputs": [],
   "source": [
    "import sqlite3\n",
    "\n",
    "# Connect to the database (replace 'your_database.db' with your database file)\n",
    "conn = sqlite3.connect('uplayers.db')\n",
    "cursor = conn.cursor()\n",
    "\n",
    "# Query to get all table names\n",
    "cursor.execute(\"SELECT name FROM sqlite_master WHERE type='table';\")\n",
    "tables = cursor.fetchall()"
   ]
  },
  {
   "cell_type": "code",
   "execution_count": 15,
   "metadata": {},
   "outputs": [
    {
     "data": {
      "text/plain": [
       "'trivias'"
      ]
     },
     "execution_count": 15,
     "metadata": {},
     "output_type": "execute_result"
    }
   ],
   "source": [
    "tables[2][0]"
   ]
  },
  {
   "cell_type": "code",
   "execution_count": 10,
   "metadata": {},
   "outputs": [],
   "source": [
    "trivias = db.t.trivias\n",
    "if trivias not in db.t:\n",
    "    trivias.create(topic=str, question=str, option_A=str, option_B=str, option_C=str, option_D=str, correct_option=str, pk='id')"
   ]
  },
  {
   "cell_type": "code",
   "execution_count": 1,
   "metadata": {},
   "outputs": [],
   "source": [
    "import sqlite3"
   ]
  },
  {
   "cell_type": "code",
   "execution_count": 4,
   "metadata": {},
   "outputs": [],
   "source": [
    "db = database('uplayers.db')"
   ]
  },
  {
   "cell_type": "code",
   "execution_count": 6,
   "metadata": {},
   "outputs": [
    {
     "name": "stderr",
     "output_type": "stream",
     "text": [
      "c:\\Users\\aprop\\OneDrive\\Desktop\\trivia\\github\\trivia\\Lib\\site-packages\\tqdm\\auto.py:21: TqdmWarning: IProgress not found. Please update jupyter and ipywidgets. See https://ipywidgets.readthedocs.io/en/stable/user_install.html\n",
      "  from .autonotebook import tqdm as notebook_tqdm\n",
      "Downloading readme: 100%|██████████| 504/504 [00:00<?, ?B/s] \n",
      "Downloading data: 100%|██████████| 2.60M/2.60M [00:01<00:00, 2.07MB/s]\n",
      "Generating train split: 100%|██████████| 16529/16529 [00:00<00:00, 178744.01 examples/s]\n"
     ]
    }
   ],
   "source": [
    "from datasets import load_dataset\n",
    "trivias = db.t.trivias\n",
    "if trivias not in db.t:\n",
    "    #bulk import from HF dataset\n",
    "    dataset = load_dataset('Mihaiii/trivia_single_choice-4-options', split='train')\n",
    "    conn = sqlite3.connect('uplayers.db')\n",
    "    cursor = conn.cursor()\n",
    "    cursor.execute('''\n",
    "    CREATE TABLE trivias (\n",
    "        id INTEGER PRIMARY KEY AUTOINCREMENT,\n",
    "        topic TEXT NOT NULL,\n",
    "        question TEXT NOT NULL,\n",
    "        option_A TEXT NOT NULL,\n",
    "        option_B TEXT NOT NULL,\n",
    "        option_C TEXT NOT NULL,\n",
    "        option_D TEXT NOT NULL,\n",
    "        correct_option TEXT NOT NULL\n",
    "    );\n",
    "    ''')\n",
    "    conn.commit()\n",
    "    insert_query = \"INSERT INTO trivias (topic, question, option_A, option_B, option_C, option_D, correct_option) VALUES (?, ?, ?, ?, ?, ?, ?)\"\n",
    "    conn.execute('BEGIN TRANSACTION')\n",
    "    for record in dataset:\n",
    "        cursor.execute(insert_query, (record['topic'], record['question'], record['option_A'], record['option_B'], record['option_C'], record['option_D'], record['correct_option']))\n",
    "    conn.commit()\n",
    "    conn.close()"
   ]
  },
  {
   "cell_type": "code",
   "execution_count": 7,
   "metadata": {},
   "outputs": [],
   "source": [
    "trivia_recs = db.q(f\"SELECT * FROM {trivias} ORDER BY RANDOM() LIMIT 5\")  "
   ]
  },
  {
   "cell_type": "code",
   "execution_count": 8,
   "metadata": {},
   "outputs": [
    {
     "data": {
      "text/plain": [
       "[{'id': 2814,\n",
       "  'topic': 'Golden Age of Video Gaming (1970s-1980s)',\n",
       "  'question': 'Which iconic arcade game, released in 1980, featured a yellow character eating dots in a maze while avoiding ghosts?',\n",
       "  'option_A': 'Space Invaders',\n",
       "  'option_B': 'Pac-Man',\n",
       "  'option_C': 'Donkey Kong',\n",
       "  'option_D': 'Asteroids',\n",
       "  'correct_option': 'B'},\n",
       " {'id': 8392,\n",
       "  'topic': 'Astronomical Discoveries by Hubble Telescope',\n",
       "  'question': 'Which of the following is one of the most famous images captured by the Hubble Space Telescope, showcasing a region of star formation in the Eagle Nebula?',\n",
       "  'option_A': 'Pillars of Creation',\n",
       "  'option_B': 'The Great Red Spot',\n",
       "  'option_C': 'The Horsehead Nebula',\n",
       "  'option_D': 'The Andromeda Galaxy',\n",
       "  'correct_option': 'A'},\n",
       " {'id': 11627,\n",
       "  'topic': 'Phase Transitions in Matter',\n",
       "  'question': 'What is the term for the phase transition from a solid directly to a gas, skipping the liquid phase?',\n",
       "  'option_A': 'Melting',\n",
       "  'option_B': 'Condensation',\n",
       "  'option_C': 'Sublimation',\n",
       "  'option_D': 'Deposition',\n",
       "  'correct_option': 'C'},\n",
       " {'id': 10213,\n",
       "  'topic': 'Plot details of the movie Inception',\n",
       "  'question': \"In the movie 'Inception', what is the main objective of Dom Cobb and his team?\",\n",
       "  'option_A': \"To plant an idea into someone's subconscious\",\n",
       "  'option_B': 'To steal a valuable artifact',\n",
       "  'option_C': 'To rescue a kidnapped scientist',\n",
       "  'option_D': 'To find a hidden treasure',\n",
       "  'correct_option': 'A'},\n",
       " {'id': 11396,\n",
       "  'topic': \"Hieronymus Bosch's 'The Garden of Earthly Delights'\",\n",
       "  'question': \"In Hieronymus Bosch's famous triptych 'The Garden of Earthly Delights', what is depicted in the central panel?\",\n",
       "  'option_A': 'A serene garden with Adam and Eve',\n",
       "  'option_B': 'A chaotic scene of earthly pleasures',\n",
       "  'option_C': 'A depiction of Hell',\n",
       "  'option_D': 'A heavenly paradise with angels',\n",
       "  'correct_option': 'B'}]"
      ]
     },
     "execution_count": 8,
     "metadata": {},
     "output_type": "execute_result"
    }
   ],
   "source": [
    "trivia_recs"
   ]
  },
  {
   "cell_type": "code",
   "execution_count": null,
   "metadata": {},
   "outputs": [],
   "source": []
  }
 ],
 "metadata": {
  "kernelspec": {
   "display_name": "trivia",
   "language": "python",
   "name": "python3"
  },
  "language_info": {
   "codemirror_mode": {
    "name": "ipython",
    "version": 3
   },
   "file_extension": ".py",
   "mimetype": "text/x-python",
   "name": "python",
   "nbconvert_exporter": "python",
   "pygments_lexer": "ipython3",
   "version": "3.11.4"
  }
 },
 "nbformat": 4,
 "nbformat_minor": 2
}
